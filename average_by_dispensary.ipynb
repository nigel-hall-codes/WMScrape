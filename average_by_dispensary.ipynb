{
 "cells": [
  {
   "cell_type": "code",
   "execution_count": 5,
   "metadata": {},
   "outputs": [],
   "source": [
    "import pandas as pd\n",
    "import numpy as np\n",
    "import matplotlib.pyplot as plt\n",
    "import sqlite3\n",
    "\n",
    "conn = sqlite3.connect(\"Medigreen.db\")\n",
    "cursor = conn.cursor()"
   ]
  },
  {
   "cell_type": "code",
   "execution_count": 40,
   "metadata": {},
   "outputs": [
    {
     "data": {
      "text/html": [
       "<div>\n",
       "<style scoped>\n",
       "    .dataframe tbody tr th:only-of-type {\n",
       "        vertical-align: middle;\n",
       "    }\n",
       "\n",
       "    .dataframe tbody tr th {\n",
       "        vertical-align: top;\n",
       "    }\n",
       "\n",
       "    .dataframe thead th {\n",
       "        text-align: right;\n",
       "    }\n",
       "</style>\n",
       "<table border=\"1\" class=\"dataframe\">\n",
       "  <thead>\n",
       "    <tr style=\"text-align: right;\">\n",
       "      <th></th>\n",
       "      <th>amount</th>\n",
       "      <th>price</th>\n",
       "      <th>product_name</th>\n",
       "      <th>dispensary_name</th>\n",
       "    </tr>\n",
       "  </thead>\n",
       "  <tbody>\n",
       "    <tr>\n",
       "      <th>0</th>\n",
       "      <td>eighth</td>\n",
       "      <td>50.0</td>\n",
       "      <td>Sweetwater Farms: Mendo Breath</td>\n",
       "      <td>Urban Pharm</td>\n",
       "    </tr>\n",
       "    <tr>\n",
       "      <th>1</th>\n",
       "      <td>eighth</td>\n",
       "      <td>50.0</td>\n",
       "      <td>Sweetwater Farms: Forbidden Fruit</td>\n",
       "      <td>Urban Pharm</td>\n",
       "    </tr>\n",
       "    <tr>\n",
       "      <th>2</th>\n",
       "      <td>eighth</td>\n",
       "      <td>55.0</td>\n",
       "      <td>Moonstone Kush</td>\n",
       "      <td>Urban Pharm</td>\n",
       "    </tr>\n",
       "    <tr>\n",
       "      <th>3</th>\n",
       "      <td>eighth</td>\n",
       "      <td>45.0</td>\n",
       "      <td>Lamb's Bread</td>\n",
       "      <td>Urban Pharm</td>\n",
       "    </tr>\n",
       "    <tr>\n",
       "      <th>4</th>\n",
       "      <td>eighth</td>\n",
       "      <td>40.0</td>\n",
       "      <td>Pineapple Rising</td>\n",
       "      <td>Urban Pharm</td>\n",
       "    </tr>\n",
       "  </tbody>\n",
       "</table>\n",
       "</div>"
      ],
      "text/plain": [
       "   amount  price                       product_name dispensary_name\n",
       "0  eighth   50.0     Sweetwater Farms: Mendo Breath     Urban Pharm\n",
       "1  eighth   50.0  Sweetwater Farms: Forbidden Fruit     Urban Pharm\n",
       "2  eighth   55.0                     Moonstone Kush     Urban Pharm\n",
       "3  eighth   45.0                       Lamb's Bread     Urban Pharm\n",
       "4  eighth   40.0                  Pineapple Rising      Urban Pharm"
      ]
     },
     "execution_count": 40,
     "metadata": {},
     "output_type": "execute_result"
    }
   ],
   "source": [
    "q = \"\"\"\n",
    "    select price.amount, price.price, product.name as product_name, dispensary.name as dispensary_name from producthasprice as php\n",
    "    join dispensary on dispensary.id=php.dispensaryid\n",
    "    join price on price.id=php.priceid\n",
    "    join product on product.id=php.productid\n",
    "    \n",
    "    where price.amount=\"eighth\" and not price.price=0 and price.price < 60\n",
    "    \"\"\"\n",
    "\n",
    "df = pd.read_sql(q, conn)\n",
    "df.head()"
   ]
  },
  {
   "cell_type": "code",
   "execution_count": 41,
   "metadata": {},
   "outputs": [
    {
     "data": {
      "text/plain": [
       "dispensary_name\n",
       "INDIKA MCC                                       55.000000\n",
       "Top Notch Flowers                                52.727273\n",
       "Feelgood - San Francisco                         52.500000\n",
       "Medithrive                                       52.333333\n",
       "Medithrive Direct                                52.333333\n",
       "Green Line Delivery                              51.785714\n",
       "Proven SF                                        50.714286\n",
       "Peninsula Plug                                   50.625000\n",
       "Budee                                            50.000000\n",
       "SF Green Delivery                                50.000000\n",
       "TOP SHELF EXPRESS - SF OVERNIGHT SERVICE ONLY    50.000000\n",
       "Waterfall Wellness                               49.650000\n",
       "Terpene Haven - San Francisco                    49.090909\n",
       "Terpene Haven                                    49.090909\n",
       "Green Door San Francisco                         48.666667\n",
       "West Manor Wellness                              48.125000\n",
       "2ONE2 California Street Dispensary               48.035556\n",
       "Kind Courier - Mission                           48.000000\n",
       "Kind Courier - FiDi                              48.000000\n",
       "Bay Care Delivery                                47.500000\n",
       "PURE 710SF                                       46.923077\n",
       "Zips R Us                                        46.666667\n",
       "Foggy Daze Organic Delivery Service              46.250000\n",
       "Bay Center Inc. - Western Addition               46.111111\n",
       "Bay Center Inc. - Sunset                         46.111111\n",
       "Bay Center Inc. - Marina                         46.111111\n",
       "Crossroads Collective                            45.937500\n",
       "Tickles and Giggles                              45.833333\n",
       "Phog Center                                      45.714286\n",
       "MediGreen Express                                45.416667\n",
       "                                                   ...    \n",
       "New Green Gods                                   36.444444\n",
       "Grasshopper SF - SOMA                            36.153846\n",
       "Green Island SF                                  36.153846\n",
       "Grasshopper SF - Haight                          36.153846\n",
       "Cookies SF                                       36.000000\n",
       "MINT XPRESS - S. San Francisco                   34.583333\n",
       "URB Delivery - San Francisco                     34.230769\n",
       "BASA Collective                                  34.180274\n",
       "Cannabis Express                                 34.000000\n",
       "Cannabis Express - San Francisco South           34.000000\n",
       "Citius Group                                     33.944444\n",
       "Shakes                                           33.888889\n",
       "JAHNETICS                                        33.625000\n",
       "The Rainbow Connection                           33.333333\n",
       "Lifted Health and Wellness                       32.900000\n",
       "Herbi                                            31.933333\n",
       "Flow Kana                                        30.000000\n",
       "420 Pop-Up Shop                                  30.000000\n",
       "SmileHouse                                       29.444444\n",
       "Sunset Farmd                                     28.823529\n",
       "WeDrop - San Francisco                           27.500000\n",
       "WeDrop - South San Francisco                     27.500000\n",
       "Natures Fire                                     27.187500\n",
       "High Trees - South San Francisco                 27.181818\n",
       "High Trees - San Francisco                       27.181818\n",
       "High Trees                                       27.181818\n",
       "Ghost Collective                                 25.000000\n",
       "SureFyre                                         22.142857\n",
       "The Green Cross                                  18.992000\n",
       "Mountain High Recreation - San Francisco         17.500000\n",
       "Name: price, Length: 97, dtype: float64"
      ]
     },
     "execution_count": 41,
     "metadata": {},
     "output_type": "execute_result"
    }
   ],
   "source": [
    "byDis = df.groupby(\"dispensary_name\")['price'].mean()\n",
    "byDis.sort_values(ascending=False)"
   ]
  },
  {
   "cell_type": "code",
   "execution_count": null,
   "metadata": {
    "collapsed": true
   },
   "outputs": [],
   "source": []
  }
 ],
 "metadata": {
  "kernelspec": {
   "display_name": "Python 3",
   "language": "python",
   "name": "python3"
  },
  "language_info": {
   "codemirror_mode": {
    "name": "ipython",
    "version": 3
   },
   "file_extension": ".py",
   "mimetype": "text/x-python",
   "name": "python",
   "nbconvert_exporter": "python",
   "pygments_lexer": "ipython3",
   "version": "3.5.2"
  }
 },
 "nbformat": 4,
 "nbformat_minor": 2
}
